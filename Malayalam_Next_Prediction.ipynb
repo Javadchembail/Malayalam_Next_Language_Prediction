{
 "cells": [
  {
   "cell_type": "code",
   "execution_count": 1,
   "id": "5b9f45f0-9c95-43c8-b689-2822d76eacc6",
   "metadata": {},
   "outputs": [],
   "source": [
    "import tensorflow as tf\n",
    "from tensorflow.keras.preprocessing.text import Tokenizer\n",
    "from tensorflow.keras.layers import Embedding, LSTM, Dense\n",
    "from tensorflow.keras.models import Sequential\n",
    "from tensorflow.keras.utils import to_categorical\n",
    "from tensorflow.keras.optimizers import Adam\n",
    "import pickle\n",
    "import numpy as np\n",
    "import os"
   ]
  },
  {
   "cell_type": "code",
   "execution_count": 2,
   "id": "a55a7083-3498-4498-a916-95e34dc44638",
   "metadata": {},
   "outputs": [],
   "source": [
    "file=open('MalayalamWords.txt','r',encoding=\"utf8\")"
   ]
  },
  {
   "cell_type": "code",
   "execution_count": 3,
   "id": "8ed3e5f4-0497-42c9-88d0-c0c3d1d03d26",
   "metadata": {},
   "outputs": [
    {
     "data": {
      "text/plain": [
       "'മൃദുവും, വെളുത്ത നിറത്തിലുള്ളതും, തിളക്കമേറിയതുമായ ഒരു ലോഹമാണ് വെള്ളി അഥവാ രജതം . ആവർത്തനപ്പട്ടികയിൽ സംക്രമണമൂലകങ്ങളുടെ കൂട്ടത്തിലാണ് ഇതിന്റെ സ്ഥാനം. വെള്ളിയുടെ ആറ്റോമിക സംഖ്യ 47 ആണ്. പ്രതീകം: Ag. എല്ലാ ലോഹങ്ങളിലും വച്ച് ഏറ്റവും കൂടുതൽ താപ വൈദ്യുത ചാലകത പ്രകടിപ്പിക്കുന്നത് വെള്ളിയാണ്. പ്രകൃതിയിൽ ഇത് ധാതു രൂപത്തിലും അല്ലാതെ സ്വതന്ത്രമായും ഇത് കാണപ്പെടുന്നു. നാണയങ്ങൾ, ആഭരണങ്ങൾ, കരണ്ടികൾ, പാത്രങ്ങൾ, കണ്ണാടികൾ എന്നിവയുടെ നിർമ്മാണത്തിനും ഛായഗ്രഹണമേഖലയിലും വെള്ളി ഉപയോഗിക്കുന്നു. വെള്ളി വളരെ ലോലമായ ഒരു'"
      ]
     },
     "execution_count": 3,
     "metadata": {},
     "output_type": "execute_result"
    }
   ],
   "source": [
    "file = open(\"MalayalamWords.txt\", \"r\", encoding = \"utf8\")\n",
    "\n",
    "# store file in list\n",
    "lines = []\n",
    "for i in file:\n",
    "    lines.append(i)\n",
    "\n",
    "# Convert list to string\n",
    "data = \"\"\n",
    "for i in lines:\n",
    "  data = ' '. join(lines) \n",
    "\n",
    "#replace unnecessary stuff with space\n",
    "data = data.replace('\\n', '').replace('\\r', '').replace('\\ufeff', '').replace('“','').replace('”','')  #new line, carriage return, unicode character --> replace by space\n",
    "\n",
    "#remove unnecessary spaces \n",
    "data = data.split()\n",
    "data = ' '.join(data)\n",
    "data[:500]"
   ]
  },
  {
   "cell_type": "code",
   "execution_count": 4,
   "id": "5bb919fa-9b61-4a1b-982a-52b9899f86f0",
   "metadata": {},
   "outputs": [
    {
     "data": {
      "text/plain": [
       "41886"
      ]
     },
     "execution_count": 4,
     "metadata": {},
     "output_type": "execute_result"
    }
   ],
   "source": [
    "len(data)"
   ]
  },
  {
   "cell_type": "code",
   "execution_count": 5,
   "id": "e095d29f-b778-4ff7-b5bc-09d0521eb9b5",
   "metadata": {},
   "outputs": [
    {
     "data": {
      "text/plain": [
       "[610, 611, 612, 613, 1, 264, 16, 96, 614, 615, 616, 617, 97, 265, 33]"
      ]
     },
     "execution_count": 5,
     "metadata": {},
     "output_type": "execute_result"
    }
   ],
   "source": [
    "tokenizer = Tokenizer()\n",
    "tokenizer.fit_on_texts([data])\n",
    "\n",
    "# saving the tokenizer for predict function\n",
    "pickle.dump(tokenizer, open('token.pkl', 'wb'))\n",
    "\n",
    "sequence_data = tokenizer.texts_to_sequences([data])[0]\n",
    "sequence_data[:15]"
   ]
  },
  {
   "cell_type": "code",
   "execution_count": 6,
   "id": "fefa432c-87ff-4e77-bfe7-1260edc902e7",
   "metadata": {},
   "outputs": [
    {
     "data": {
      "text/plain": [
       "4399"
      ]
     },
     "execution_count": 6,
     "metadata": {},
     "output_type": "execute_result"
    }
   ],
   "source": [
    "len(sequence_data)"
   ]
  },
  {
   "cell_type": "code",
   "execution_count": 7,
   "id": "2846a5b9-239f-4103-925f-c69a4026489c",
   "metadata": {},
   "outputs": [
    {
     "name": "stdout",
     "output_type": "stream",
     "text": [
      "2971\n"
     ]
    }
   ],
   "source": [
    "vocab_size = len(tokenizer.word_index) + 1\n",
    "print(vocab_size)"
   ]
  },
  {
   "cell_type": "code",
   "execution_count": 8,
   "id": "9df1f9d3-a9bf-4ad9-90e7-b2126362e384",
   "metadata": {},
   "outputs": [
    {
     "name": "stdout",
     "output_type": "stream",
     "text": [
      "The Length of sequences are:  4396\n"
     ]
    },
    {
     "data": {
      "text/plain": [
       "array([[610, 611, 612, 613],\n",
       "       [611, 612, 613,   1],\n",
       "       [612, 613,   1, 264],\n",
       "       [613,   1, 264,  16],\n",
       "       [  1, 264,  16,  96],\n",
       "       [264,  16,  96, 614],\n",
       "       [ 16,  96, 614, 615],\n",
       "       [ 96, 614, 615, 616],\n",
       "       [614, 615, 616, 617],\n",
       "       [615, 616, 617,  97]])"
      ]
     },
     "execution_count": 8,
     "metadata": {},
     "output_type": "execute_result"
    }
   ],
   "source": [
    "sequences = []\n",
    "\n",
    "for i in range(3, len(sequence_data)):\n",
    "    words = sequence_data[i-3:i+1]\n",
    "    sequences.append(words)\n",
    "    \n",
    "print(\"The Length of sequences are: \", len(sequences))\n",
    "sequences = np.array(sequences)\n",
    "sequences[:10]"
   ]
  },
  {
   "cell_type": "code",
   "execution_count": 9,
   "id": "6236fcca-bb55-438e-872e-dbd2aa19256b",
   "metadata": {},
   "outputs": [],
   "source": [
    "X = []\n",
    "y = []\n",
    "\n",
    "for i in sequences:\n",
    "    X.append(i[0:3])\n",
    "    y.append(i[3])\n",
    "    \n",
    "X = np.array(X)\n",
    "y = np.array(y)"
   ]
  },
  {
   "cell_type": "code",
   "execution_count": 10,
   "id": "712cfa4e-9720-449b-b4c4-229c653a2337",
   "metadata": {},
   "outputs": [
    {
     "name": "stdout",
     "output_type": "stream",
     "text": [
      "Data:  [[610 611 612]\n",
      " [611 612 613]\n",
      " [612 613   1]\n",
      " [613   1 264]\n",
      " [  1 264  16]\n",
      " [264  16  96]\n",
      " [ 16  96 614]\n",
      " [ 96 614 615]\n",
      " [614 615 616]\n",
      " [615 616 617]]\n",
      "Response:  [613   1 264  16  96 614 615 616 617  97]\n"
     ]
    }
   ],
   "source": [
    "print(\"Data: \", X[:10])\n",
    "print(\"Response: \", y[:10])"
   ]
  },
  {
   "cell_type": "code",
   "execution_count": 11,
   "id": "1395b973-cc0d-447a-b5d4-b16fceb307f9",
   "metadata": {},
   "outputs": [
    {
     "data": {
      "text/plain": [
       "array([[0., 0., 0., ..., 0., 0., 0.],\n",
       "       [0., 1., 0., ..., 0., 0., 0.],\n",
       "       [0., 0., 0., ..., 0., 0., 0.],\n",
       "       [0., 0., 0., ..., 0., 0., 0.],\n",
       "       [0., 0., 0., ..., 0., 0., 0.]], dtype=float32)"
      ]
     },
     "execution_count": 11,
     "metadata": {},
     "output_type": "execute_result"
    }
   ],
   "source": [
    "y = to_categorical(y, num_classes=vocab_size)\n",
    "y[:5]"
   ]
  },
  {
   "cell_type": "code",
   "execution_count": 12,
   "id": "27ca000f-0181-42c1-bce1-436f9f6f64b5",
   "metadata": {},
   "outputs": [],
   "source": [
    "model = Sequential()\n",
    "model.add(Embedding(vocab_size, 10, input_length=3))\n",
    "model.add(LSTM(1000, return_sequences=True))\n",
    "model.add(LSTM(1000))\n",
    "model.add(Dense(1000, activation=\"relu\"))\n",
    "model.add(Dense(vocab_size, activation=\"softmax\"))"
   ]
  },
  {
   "cell_type": "code",
   "execution_count": 13,
   "id": "9e7426c5-0fa7-4ddc-8fda-2796a4ea73ff",
   "metadata": {},
   "outputs": [
    {
     "name": "stdout",
     "output_type": "stream",
     "text": [
      "Model: \"sequential\"\n",
      "_________________________________________________________________\n",
      " Layer (type)                Output Shape              Param #   \n",
      "=================================================================\n",
      " embedding (Embedding)       (None, 3, 10)             29710     \n",
      "                                                                 \n",
      " lstm (LSTM)                 (None, 3, 1000)           4044000   \n",
      "                                                                 \n",
      " lstm_1 (LSTM)               (None, 1000)              8004000   \n",
      "                                                                 \n",
      " dense (Dense)               (None, 1000)              1001000   \n",
      "                                                                 \n",
      " dense_1 (Dense)             (None, 2971)              2973971   \n",
      "                                                                 \n",
      "=================================================================\n",
      "Total params: 16,052,681\n",
      "Trainable params: 16,052,681\n",
      "Non-trainable params: 0\n",
      "_________________________________________________________________\n"
     ]
    }
   ],
   "source": [
    "model.summary()"
   ]
  },
  {
   "cell_type": "code",
   "execution_count": 14,
   "id": "8f2bf54e-d43d-4627-89b7-b1980c229049",
   "metadata": {},
   "outputs": [
    {
     "name": "stdout",
     "output_type": "stream",
     "text": [
      "Epoch 1/70\n",
      "69/69 [==============================] - ETA: 0s - loss: 8.0001\n",
      "Epoch 1: loss improved from inf to 8.00013, saving model to next_words.h5\n",
      "69/69 [==============================] - 39s 485ms/step - loss: 8.0001\n",
      "Epoch 2/70\n",
      "69/69 [==============================] - ETA: 0s - loss: 7.8757\n",
      "Epoch 2: loss improved from 8.00013 to 7.87571, saving model to next_words.h5\n",
      "69/69 [==============================] - 33s 477ms/step - loss: 7.8757\n",
      "Epoch 3/70\n",
      "69/69 [==============================] - ETA: 0s - loss: 7.6839\n",
      "Epoch 3: loss improved from 7.87571 to 7.68394, saving model to next_words.h5\n",
      "69/69 [==============================] - 32s 468ms/step - loss: 7.6839\n",
      "Epoch 4/70\n",
      "69/69 [==============================] - ETA: 0s - loss: 7.4720\n",
      "Epoch 4: loss improved from 7.68394 to 7.47197, saving model to next_words.h5\n",
      "69/69 [==============================] - 33s 485ms/step - loss: 7.4720\n",
      "Epoch 5/70\n",
      "69/69 [==============================] - ETA: 0s - loss: 7.2284\n",
      "Epoch 5: loss improved from 7.47197 to 7.22837, saving model to next_words.h5\n",
      "69/69 [==============================] - 35s 502ms/step - loss: 7.2284\n",
      "Epoch 6/70\n",
      "69/69 [==============================] - ETA: 0s - loss: 6.8852\n",
      "Epoch 6: loss improved from 7.22837 to 6.88524, saving model to next_words.h5\n",
      "69/69 [==============================] - 36s 526ms/step - loss: 6.8852\n",
      "Epoch 7/70\n",
      "69/69 [==============================] - ETA: 0s - loss: 6.3790\n",
      "Epoch 7: loss improved from 6.88524 to 6.37903, saving model to next_words.h5\n",
      "69/69 [==============================] - 37s 536ms/step - loss: 6.3790\n",
      "Epoch 8/70\n",
      "69/69 [==============================] - ETA: 0s - loss: 5.6086\n",
      "Epoch 8: loss improved from 6.37903 to 5.60857, saving model to next_words.h5\n",
      "69/69 [==============================] - 33s 480ms/step - loss: 5.6086\n",
      "Epoch 9/70\n",
      "69/69 [==============================] - ETA: 0s - loss: 4.7966\n",
      "Epoch 9: loss improved from 5.60857 to 4.79658, saving model to next_words.h5\n",
      "69/69 [==============================] - 34s 491ms/step - loss: 4.7966\n",
      "Epoch 10/70\n",
      "69/69 [==============================] - ETA: 0s - loss: 4.0935\n",
      "Epoch 10: loss improved from 4.79658 to 4.09355, saving model to next_words.h5\n",
      "69/69 [==============================] - 32s 468ms/step - loss: 4.0935\n",
      "Epoch 11/70\n",
      "69/69 [==============================] - ETA: 0s - loss: 3.4623\n",
      "Epoch 11: loss improved from 4.09355 to 3.46233, saving model to next_words.h5\n",
      "69/69 [==============================] - 36s 529ms/step - loss: 3.4623\n",
      "Epoch 12/70\n",
      "69/69 [==============================] - ETA: 0s - loss: 2.9338\n",
      "Epoch 12: loss improved from 3.46233 to 2.93381, saving model to next_words.h5\n",
      "69/69 [==============================] - 33s 478ms/step - loss: 2.9338\n",
      "Epoch 13/70\n",
      "69/69 [==============================] - ETA: 0s - loss: 2.5088\n",
      "Epoch 13: loss improved from 2.93381 to 2.50876, saving model to next_words.h5\n",
      "69/69 [==============================] - 31s 448ms/step - loss: 2.5088\n",
      "Epoch 14/70\n",
      "69/69 [==============================] - ETA: 0s - loss: 2.0600\n",
      "Epoch 14: loss improved from 2.50876 to 2.05997, saving model to next_words.h5\n",
      "69/69 [==============================] - 30s 438ms/step - loss: 2.0600\n",
      "Epoch 15/70\n",
      "69/69 [==============================] - ETA: 0s - loss: 1.7066\n",
      "Epoch 15: loss improved from 2.05997 to 1.70659, saving model to next_words.h5\n",
      "69/69 [==============================] - 30s 433ms/step - loss: 1.7066\n",
      "Epoch 16/70\n",
      "69/69 [==============================] - ETA: 0s - loss: 1.3459\n",
      "Epoch 16: loss improved from 1.70659 to 1.34589, saving model to next_words.h5\n",
      "69/69 [==============================] - 31s 445ms/step - loss: 1.3459\n",
      "Epoch 17/70\n",
      "69/69 [==============================] - ETA: 0s - loss: 1.0719\n",
      "Epoch 17: loss improved from 1.34589 to 1.07186, saving model to next_words.h5\n",
      "69/69 [==============================] - 33s 472ms/step - loss: 1.0719\n",
      "Epoch 18/70\n",
      "69/69 [==============================] - ETA: 0s - loss: 0.8698\n",
      "Epoch 18: loss improved from 1.07186 to 0.86981, saving model to next_words.h5\n",
      "69/69 [==============================] - 32s 470ms/step - loss: 0.8698\n",
      "Epoch 19/70\n",
      "69/69 [==============================] - ETA: 0s - loss: 0.6560\n",
      "Epoch 19: loss improved from 0.86981 to 0.65603, saving model to next_words.h5\n",
      "69/69 [==============================] - 31s 451ms/step - loss: 0.6560\n",
      "Epoch 20/70\n",
      "69/69 [==============================] - ETA: 0s - loss: 0.5138\n",
      "Epoch 20: loss improved from 0.65603 to 0.51381, saving model to next_words.h5\n",
      "69/69 [==============================] - 33s 479ms/step - loss: 0.5138\n",
      "Epoch 21/70\n",
      "69/69 [==============================] - ETA: 0s - loss: 0.4109\n",
      "Epoch 21: loss improved from 0.51381 to 0.41088, saving model to next_words.h5\n",
      "69/69 [==============================] - 31s 446ms/step - loss: 0.4109\n",
      "Epoch 22/70\n",
      "69/69 [==============================] - ETA: 0s - loss: 0.3480\n",
      "Epoch 22: loss improved from 0.41088 to 0.34799, saving model to next_words.h5\n",
      "69/69 [==============================] - 33s 476ms/step - loss: 0.3480\n",
      "Epoch 23/70\n",
      "69/69 [==============================] - ETA: 0s - loss: 0.3103\n",
      "Epoch 23: loss improved from 0.34799 to 0.31035, saving model to next_words.h5\n",
      "69/69 [==============================] - 33s 479ms/step - loss: 0.3103\n",
      "Epoch 24/70\n",
      "69/69 [==============================] - ETA: 0s - loss: 0.3016\n",
      "Epoch 24: loss improved from 0.31035 to 0.30157, saving model to next_words.h5\n",
      "69/69 [==============================] - 34s 490ms/step - loss: 0.3016\n",
      "Epoch 25/70\n",
      "69/69 [==============================] - ETA: 0s - loss: 0.3086\n",
      "Epoch 25: loss did not improve from 0.30157\n",
      "69/69 [==============================] - 34s 493ms/step - loss: 0.3086\n",
      "Epoch 26/70\n",
      "69/69 [==============================] - ETA: 0s - loss: 0.2708\n",
      "Epoch 26: loss improved from 0.30157 to 0.27081, saving model to next_words.h5\n",
      "69/69 [==============================] - 33s 484ms/step - loss: 0.2708\n",
      "Epoch 27/70\n",
      "69/69 [==============================] - ETA: 0s - loss: 0.2512\n",
      "Epoch 27: loss improved from 0.27081 to 0.25122, saving model to next_words.h5\n",
      "69/69 [==============================] - 31s 455ms/step - loss: 0.2512\n",
      "Epoch 28/70\n",
      "69/69 [==============================] - ETA: 0s - loss: 0.2358\n",
      "Epoch 28: loss improved from 0.25122 to 0.23583, saving model to next_words.h5\n",
      "69/69 [==============================] - 33s 474ms/step - loss: 0.2358\n",
      "Epoch 29/70\n",
      "69/69 [==============================] - ETA: 0s - loss: 0.2009\n",
      "Epoch 29: loss improved from 0.23583 to 0.20089, saving model to next_words.h5\n",
      "69/69 [==============================] - 32s 459ms/step - loss: 0.2009\n",
      "Epoch 30/70\n",
      "69/69 [==============================] - ETA: 0s - loss: 0.1952\n",
      "Epoch 30: loss improved from 0.20089 to 0.19523, saving model to next_words.h5\n",
      "69/69 [==============================] - 31s 453ms/step - loss: 0.1952\n",
      "Epoch 31/70\n",
      "69/69 [==============================] - ETA: 0s - loss: 0.1515\n",
      "Epoch 31: loss improved from 0.19523 to 0.15148, saving model to next_words.h5\n",
      "69/69 [==============================] - 30s 430ms/step - loss: 0.1515\n",
      "Epoch 32/70\n",
      "69/69 [==============================] - ETA: 0s - loss: 0.1592\n",
      "Epoch 32: loss did not improve from 0.15148\n",
      "69/69 [==============================] - 32s 458ms/step - loss: 0.1592\n",
      "Epoch 33/70\n",
      "69/69 [==============================] - ETA: 0s - loss: 0.1553\n",
      "Epoch 33: loss did not improve from 0.15148\n",
      "69/69 [==============================] - 31s 449ms/step - loss: 0.1553\n",
      "Epoch 34/70\n",
      "69/69 [==============================] - ETA: 0s - loss: 0.1442\n",
      "Epoch 34: loss improved from 0.15148 to 0.14416, saving model to next_words.h5\n",
      "69/69 [==============================] - 33s 477ms/step - loss: 0.1442\n",
      "Epoch 35/70\n",
      "69/69 [==============================] - ETA: 0s - loss: 0.1651\n",
      "Epoch 35: loss did not improve from 0.14416\n",
      "69/69 [==============================] - 30s 429ms/step - loss: 0.1651\n",
      "Epoch 36/70\n",
      "69/69 [==============================] - ETA: 0s - loss: 0.1543\n",
      "Epoch 36: loss did not improve from 0.14416\n",
      "69/69 [==============================] - 32s 466ms/step - loss: 0.1543\n",
      "Epoch 37/70\n",
      "69/69 [==============================] - ETA: 0s - loss: 0.1880\n",
      "Epoch 37: loss did not improve from 0.14416\n",
      "69/69 [==============================] - 30s 436ms/step - loss: 0.1880\n",
      "Epoch 38/70\n",
      "69/69 [==============================] - ETA: 0s - loss: 0.1737\n",
      "Epoch 38: loss did not improve from 0.14416\n",
      "69/69 [==============================] - 32s 460ms/step - loss: 0.1737\n",
      "Epoch 39/70\n",
      "69/69 [==============================] - ETA: 0s - loss: 0.1764\n",
      "Epoch 39: loss did not improve from 0.14416\n",
      "69/69 [==============================] - 31s 443ms/step - loss: 0.1764\n",
      "Epoch 40/70\n",
      "69/69 [==============================] - ETA: 0s - loss: 0.1954\n",
      "Epoch 40: loss did not improve from 0.14416\n",
      "69/69 [==============================] - 32s 467ms/step - loss: 0.1954\n",
      "Epoch 41/70\n",
      "69/69 [==============================] - ETA: 0s - loss: 0.2908\n",
      "Epoch 41: loss did not improve from 0.14416\n",
      "69/69 [==============================] - 31s 445ms/step - loss: 0.2908\n",
      "Epoch 42/70\n",
      "69/69 [==============================] - ETA: 0s - loss: 0.3017\n",
      "Epoch 42: loss did not improve from 0.14416\n",
      "69/69 [==============================] - 31s 443ms/step - loss: 0.3017\n",
      "Epoch 43/70\n",
      "69/69 [==============================] - ETA: 0s - loss: 0.2239\n",
      "Epoch 43: loss did not improve from 0.14416\n",
      "69/69 [==============================] - 31s 443ms/step - loss: 0.2239\n",
      "Epoch 44/70\n",
      "69/69 [==============================] - ETA: 0s - loss: 0.1933\n",
      "Epoch 44: loss did not improve from 0.14416\n",
      "69/69 [==============================] - 30s 440ms/step - loss: 0.1933\n",
      "Epoch 45/70\n",
      "69/69 [==============================] - ETA: 0s - loss: 0.1639\n",
      "Epoch 45: loss did not improve from 0.14416\n",
      "69/69 [==============================] - 31s 453ms/step - loss: 0.1639\n",
      "Epoch 46/70\n",
      "69/69 [==============================] - ETA: 0s - loss: 0.1019\n",
      "Epoch 46: loss improved from 0.14416 to 0.10194, saving model to next_words.h5\n",
      "69/69 [==============================] - 31s 454ms/step - loss: 0.1019\n",
      "Epoch 47/70\n",
      "69/69 [==============================] - ETA: 0s - loss: 0.0901\n",
      "Epoch 47: loss improved from 0.10194 to 0.09014, saving model to next_words.h5\n",
      "69/69 [==============================] - 30s 440ms/step - loss: 0.0901\n",
      "Epoch 48/70\n",
      "69/69 [==============================] - ETA: 0s - loss: 0.0763\n",
      "Epoch 48: loss improved from 0.09014 to 0.07629, saving model to next_words.h5\n",
      "69/69 [==============================] - 30s 438ms/step - loss: 0.0763\n",
      "Epoch 49/70\n",
      "69/69 [==============================] - ETA: 0s - loss: 0.0615\n",
      "Epoch 49: loss improved from 0.07629 to 0.06151, saving model to next_words.h5\n",
      "69/69 [==============================] - 30s 437ms/step - loss: 0.0615\n",
      "Epoch 50/70\n",
      "69/69 [==============================] - ETA: 0s - loss: 0.0586\n",
      "Epoch 50: loss improved from 0.06151 to 0.05860, saving model to next_words.h5\n",
      "69/69 [==============================] - 33s 482ms/step - loss: 0.0586\n",
      "Epoch 51/70\n",
      "69/69 [==============================] - ETA: 0s - loss: 0.0471\n",
      "Epoch 51: loss improved from 0.05860 to 0.04713, saving model to next_words.h5\n",
      "69/69 [==============================] - 34s 488ms/step - loss: 0.0471\n",
      "Epoch 52/70\n",
      "69/69 [==============================] - ETA: 0s - loss: 0.0398\n",
      "Epoch 52: loss improved from 0.04713 to 0.03979, saving model to next_words.h5\n",
      "69/69 [==============================] - 35s 500ms/step - loss: 0.0398\n",
      "Epoch 53/70\n",
      "69/69 [==============================] - ETA: 0s - loss: 0.0405\n",
      "Epoch 53: loss did not improve from 0.03979\n",
      "69/69 [==============================] - 32s 465ms/step - loss: 0.0405\n",
      "Epoch 54/70\n",
      "69/69 [==============================] - ETA: 0s - loss: 0.0395\n",
      "Epoch 54: loss improved from 0.03979 to 0.03951, saving model to next_words.h5\n",
      "69/69 [==============================] - 35s 513ms/step - loss: 0.0395\n",
      "Epoch 55/70\n",
      "69/69 [==============================] - ETA: 0s - loss: 0.0380\n",
      "Epoch 55: loss improved from 0.03951 to 0.03796, saving model to next_words.h5\n",
      "69/69 [==============================] - 33s 479ms/step - loss: 0.0380\n",
      "Epoch 56/70\n",
      "69/69 [==============================] - ETA: 0s - loss: 0.0356\n",
      "Epoch 56: loss improved from 0.03796 to 0.03562, saving model to next_words.h5\n",
      "69/69 [==============================] - 33s 483ms/step - loss: 0.0356\n",
      "Epoch 57/70\n",
      "69/69 [==============================] - ETA: 0s - loss: 0.0378\n",
      "Epoch 57: loss did not improve from 0.03562\n",
      "69/69 [==============================] - 35s 504ms/step - loss: 0.0378\n",
      "Epoch 58/70\n",
      "69/69 [==============================] - ETA: 0s - loss: 0.0350\n",
      "Epoch 58: loss improved from 0.03562 to 0.03495, saving model to next_words.h5\n",
      "69/69 [==============================] - 32s 466ms/step - loss: 0.0350\n",
      "Epoch 59/70\n",
      "69/69 [==============================] - ETA: 0s - loss: 0.0337\n",
      "Epoch 59: loss improved from 0.03495 to 0.03370, saving model to next_words.h5\n",
      "69/69 [==============================] - 38s 555ms/step - loss: 0.0337\n",
      "Epoch 60/70\n",
      "69/69 [==============================] - ETA: 0s - loss: 0.0361\n",
      "Epoch 60: loss did not improve from 0.03370\n",
      "69/69 [==============================] - 34s 491ms/step - loss: 0.0361\n",
      "Epoch 61/70\n",
      "69/69 [==============================] - ETA: 0s - loss: 0.0350\n",
      "Epoch 61: loss did not improve from 0.03370\n",
      "69/69 [==============================] - 36s 530ms/step - loss: 0.0350\n",
      "Epoch 62/70\n",
      "69/69 [==============================] - ETA: 0s - loss: 0.0336\n",
      "Epoch 62: loss improved from 0.03370 to 0.03365, saving model to next_words.h5\n",
      "69/69 [==============================] - 38s 556ms/step - loss: 0.0336\n",
      "Epoch 63/70\n",
      "69/69 [==============================] - ETA: 0s - loss: 0.0348\n",
      "Epoch 63: loss did not improve from 0.03365\n",
      "69/69 [==============================] - 33s 477ms/step - loss: 0.0348\n",
      "Epoch 64/70\n",
      "69/69 [==============================] - ETA: 0s - loss: 0.0348\n",
      "Epoch 64: loss did not improve from 0.03365\n",
      "69/69 [==============================] - 34s 486ms/step - loss: 0.0348\n",
      "Epoch 65/70\n",
      "69/69 [==============================] - ETA: 0s - loss: 0.0324\n",
      "Epoch 65: loss improved from 0.03365 to 0.03243, saving model to next_words.h5\n",
      "69/69 [==============================] - 36s 518ms/step - loss: 0.0324\n",
      "Epoch 66/70\n",
      "69/69 [==============================] - ETA: 0s - loss: 0.0334\n",
      "Epoch 66: loss did not improve from 0.03243\n",
      "69/69 [==============================] - 31s 444ms/step - loss: 0.0334\n",
      "Epoch 67/70\n",
      "69/69 [==============================] - ETA: 0s - loss: 0.0322\n",
      "Epoch 67: loss improved from 0.03243 to 0.03218, saving model to next_words.h5\n",
      "69/69 [==============================] - 30s 438ms/step - loss: 0.0322\n",
      "Epoch 68/70\n",
      "69/69 [==============================] - ETA: 0s - loss: 0.0316\n",
      "Epoch 68: loss improved from 0.03218 to 0.03161, saving model to next_words.h5\n",
      "69/69 [==============================] - 31s 449ms/step - loss: 0.0316\n",
      "Epoch 69/70\n",
      "69/69 [==============================] - ETA: 0s - loss: 0.0311\n",
      "Epoch 69: loss improved from 0.03161 to 0.03107, saving model to next_words.h5\n",
      "69/69 [==============================] - 34s 491ms/step - loss: 0.0311\n",
      "Epoch 70/70\n",
      "69/69 [==============================] - ETA: 0s - loss: 0.0322\n",
      "Epoch 70: loss did not improve from 0.03107\n",
      "69/69 [==============================] - 32s 458ms/step - loss: 0.0322\n"
     ]
    },
    {
     "data": {
      "text/plain": [
       "<keras.callbacks.History at 0x25ac03bb880>"
      ]
     },
     "execution_count": 14,
     "metadata": {},
     "output_type": "execute_result"
    }
   ],
   "source": [
    "from tensorflow.keras.callbacks import ModelCheckpoint\n",
    "\n",
    "checkpoint = ModelCheckpoint(\"next_words.h5\", monitor='loss', verbose=1, save_best_only=True)\n",
    "model.compile(loss=\"categorical_crossentropy\", optimizer=Adam(learning_rate=0.001))\n",
    "model.fit(X, y, epochs=70, batch_size=64, callbacks=[checkpoint])"
   ]
  },
  {
   "cell_type": "code",
   "execution_count": 15,
   "id": "e5e8584f-36c3-45c6-9203-466dd655aa0a",
   "metadata": {},
   "outputs": [],
   "source": [
    "from tensorflow.keras.models import load_model\n",
    "import numpy as np\n",
    "import pickle\n",
    "\n",
    "# Load the model and tokenizer\n",
    "model = load_model('next_words.h5')\n",
    "tokenizer = pickle.load(open('token.pkl', 'rb'))\n",
    "\n",
    "def Predict_Next_Words(model, tokenizer, text):\n",
    "\n",
    "  sequence = tokenizer.texts_to_sequences([text])\n",
    "  sequence = np.array(sequence)\n",
    "  preds = np.argmax(model.predict(sequence))\n",
    "  predicted_word = \"\"\n",
    "  \n",
    "  for key, value in tokenizer.word_index.items():\n",
    "      if value == preds:\n",
    "          predicted_word = key\n",
    "          break\n",
    "  \n",
    "  print(predicted_word)\n",
    "  return predicted_word"
   ]
  },
  {
   "cell_type": "code",
   "execution_count": null,
   "id": "ae15c251-c4a7-41f8-9a38-826c8ec1af8f",
   "metadata": {},
   "outputs": [
    {
     "name": "stdin",
     "output_type": "stream",
     "text": [
      "Enter your line:  രസതന്ത്രവുമായി ബന്ധപ്പെട്ട ഈ\n"
     ]
    },
    {
     "name": "stdout",
     "output_type": "stream",
     "text": [
      "['രസതന്ത്രവുമായി', 'ബന്ധപ്പെട്ട', 'ഈ']\n",
      "1/1 [==============================] - 3s 3s/step\n",
      "ലേഖനം\n"
     ]
    }
   ],
   "source": [
    "while(True):\n",
    "  text = input(\"Enter your line: \")\n",
    "  \n",
    "  if text == \"0\":\n",
    "      print(\"Execution completed.....\")\n",
    "      break\n",
    "  \n",
    "  else:\n",
    "      try:\n",
    "          text = text.split(\" \")\n",
    "          text = text[-3:]\n",
    "          print(text)\n",
    "        \n",
    "          Predict_Next_Words(model, tokenizer, text)\n",
    "          \n",
    "      except Exception as e:\n",
    "        print(\"Error occurred: \",e)\n",
    "        continue"
   ]
  },
  {
   "cell_type": "code",
   "execution_count": null,
   "id": "6df51736-534c-4821-bbfd-c12273312acb",
   "metadata": {},
   "outputs": [],
   "source": []
  }
 ],
 "metadata": {
  "kernelspec": {
   "display_name": "Python 3 (ipykernel)",
   "language": "python",
   "name": "python3"
  },
  "language_info": {
   "codemirror_mode": {
    "name": "ipython",
    "version": 3
   },
   "file_extension": ".py",
   "mimetype": "text/x-python",
   "name": "python",
   "nbconvert_exporter": "python",
   "pygments_lexer": "ipython3",
   "version": "3.9.13"
  }
 },
 "nbformat": 4,
 "nbformat_minor": 5
}
